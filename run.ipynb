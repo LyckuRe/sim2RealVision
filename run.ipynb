{
 "cells": [
  {
   "cell_type": "code",
   "execution_count": 41,
   "metadata": {},
   "outputs": [],
   "source": [
    "from bullet import SimImage\n",
    "import matplotlib.pyplot as plt\n",
    "from PIL import Image\n",
    "import numpy as np\n",
    "\n",
    "TEXTURE_PATH = \"textures/texture.jpg\"\n",
    "LINE_SAVE_PATH = \"line_images/\"\n",
    "\n",
    "line_dataset_size = 1"
   ]
  },
  {
   "cell_type": "code",
   "execution_count": 2,
   "metadata": {},
   "outputs": [],
   "source": [
    "# Create Simulation\n",
    "sim = SimImage(texture_path=TEXTURE_PATH)"
   ]
  },
  {
   "cell_type": "code",
   "execution_count": 40,
   "metadata": {},
   "outputs": [],
   "source": [
    "# Line Generate Loop\n",
    "for i in range(line_dataset_size):\n",
    "    # Get an image + waypoints\n",
    "    img_raw, waypoints = sim.generate_line_images()\n",
    "    \n",
    "    # Save image\n",
    "    img_rgb = Image.fromarray(img_raw[:, :, :3])\n",
    "    img_rgb.save(f'{LINE_SAVE_PATH}images/line_image_{i}.jpeg')\n",
    "\n",
    "    # Save mask\n",
    "    img_alpha = img_raw[:, :, 3]\n",
    "    img_blank = np.expand_dims(img_alpha, axis=-1)\n",
    "    img_blank = np.repeat(img_blank, 3, axis=-1)\n",
    "    mask = np.all(img_raw[:, :, :3] != img_blank, axis=-1)\n",
    "    mask_img = Image.fromarray(mask)\n",
    "    mask_img.save(f'{LINE_SAVE_PATH}masks/mask_image_{i}.jpeg')\n",
    "\n",
    "    # \n",
    "    with open(f'{LINE_SAVE_PATH}labels/point_label_{i}.txt', 'w') as f:\n",
    "        f.write(str(waypoints[:6]))\n",
    "    f.close()"
   ]
  },
  {
   "cell_type": "code",
   "execution_count": 39,
   "metadata": {},
   "outputs": [
    {
     "name": "stdout",
     "output_type": "stream",
     "text": [
      "[[0, 0, 0], [-0.25, 0.0, 0.0], [-0.49620193825305203, -0.04341204441673258, 0.0], [-0.7424038765061041, -0.08682408883346517, 0.0], [-0.9886058147591561, -0.13023613325019776, 0.0], [-1.2348077530122081, -0.17364817766693033, 0.0], [-1.4810096912652602, -0.2170602220836629, 0.0], [-1.7272116295183122, -0.2604722665003955, 0.0], [-1.9734135677713642, -0.3038843109171281, 0.0], [-2.2196155060244163, -0.34729635533386066, 0.0], [-2.4573796350982047, -0.2700421067401238, 0.0], [-2.695143764171993, -0.19278785814638694, 0.0], [-2.941345702425045, -0.2361999025631195, 0.0], [-3.1875476406780967, -0.2796119469798521, 0.0], [-3.4337495789311485, -0.32302399139658466, 0.0], [-3.6799515171842003, -0.36643603581331724, 0.0], [-3.862789942588993, -0.19593644579769262, 0.0], [-4.0456283679937854, -0.025436855782068002, 0.0], [-4.228466793398578, -0.19593644579769262, 0.0], [-4.411305218803371, -0.36643603581331724, 0.0]]\n",
      "(256, 256)\n"
     ]
    },
    {
     "data": {
      "image/png": "[encoded data removed]",
      "text/plain": [
       "<Figure size 640x480 with 1 Axes>"
      ]
     },
     "metadata": {},
     "output_type": "display_data"
    }
   ],
   "source": [
    "# Generate image and waypoints\n",
    "img, waypoints = sim.generate_line_images()\n",
    "\n",
    "# Print waypoints\n",
    "print(waypoints)\n",
    "\n",
    "img_alpha = img[:, :, 3]\n",
    "img_blank = np.expand_dims(img_alpha, axis=-1)\n",
    "img_blank = np.repeat(img_blank, 3, axis=-1)\n",
    "mask = np.all(img[:, :, :3] != img_blank, axis=-1)\n",
    "print(mask.shape)\n",
    "# Display image\n",
    "plt.imshow(mask, cmap='gray')\n",
    "plt.title('Textured Random Line with Waypoints')\n",
    "plt.axis('off')\n",
    "plt.show()"
   ]
  },
  {
   "cell_type": "code",
   "execution_count": null,
   "metadata": {},
   "outputs": [],
   "source": []
  }
 ],
 "metadata": {
  "kernelspec": {
   "display_name": "Python 3",
   "language": "python",
   "name": "python3"
  },
  "language_info": {
   "codemirror_mode": {
    "name": "ipython",
    "version": 3
   },
   "file_extension": ".py",
   "mimetype": "text/x-python",
   "name": "python",
   "nbconvert_exporter": "python",
   "pygments_lexer": "ipython3",
   "version": "3.10.5"
  }
 },
 "nbformat": 4,
 "nbformat_minor": 2
}
